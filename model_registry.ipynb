{
 "nbformat": 4,
 "nbformat_minor": 0,
 "metadata": {
  "colab": {
   "provenance": []
  },
  "kernelspec": {
   "name": "python3",
   "display_name": "Python 3 (ipykernel)",
   "language": "python"
  },
  "language_info": {
   "name": "python"
  }
 },
 "cells": [
  {
   "cell_type": "markdown",
   "source": [
    "## Instalando o MLflow"
   ],
   "metadata": {
    "id": "cL8iUNRkKnnN"
   }
  },
  {
   "cell_type": "code",
   "metadata": {
    "id": "8ZqLomD1JbEn",
    "ExecuteTime": {
     "end_time": "2024-08-28T00:14:43.645076Z",
     "start_time": "2024-08-28T00:14:40.668227Z"
    }
   },
   "source": [
    "!pip install mlflow==2.2.2 -q"
   ],
   "outputs": [],
   "execution_count": 7
  },
  {
   "cell_type": "markdown",
   "source": [
    "## import das bibliotecas"
   ],
   "metadata": {
    "id": "jAnzWtfqKsfI"
   }
  },
  {
   "cell_type": "code",
   "source": [
    "import os\n",
    "import mlflow\n",
    "import numpy as np"
   ],
   "metadata": {
    "id": "MAn3URFmJihs",
    "ExecuteTime": {
     "end_time": "2024-08-28T00:14:43.660701Z",
     "start_time": "2024-08-28T00:14:43.645076Z"
    }
   },
   "outputs": [],
   "execution_count": 8
  },
  {
   "cell_type": "markdown",
   "source": [
    "## Configurando o MLflow"
   ],
   "metadata": {
    "id": "PhBP5HFCKvYb"
   }
  },
  {
   "cell_type": "code",
   "source": [
    "MLFLOW_TRACKING_URI = 'https://dagshub.com/renansantosmendes/mlops-ead.mlflow'\n",
    "MLFLOW_TRACKING_USERNAME = 'renansantosmendes'\n",
    "MLFLOW_TRACKING_PASSWORD = 'b63baf8c662a23fa00deb74ba86600278769e5dd'\n",
    "os.environ['MLFLOW_TRACKING_USERNAME'] = MLFLOW_TRACKING_USERNAME\n",
    "os.environ['MLFLOW_TRACKING_PASSWORD'] = MLFLOW_TRACKING_PASSWORD\n",
    "\n",
    "mlflow.set_tracking_uri(MLFLOW_TRACKING_URI)"
   ],
   "metadata": {
    "id": "Bu43IC6oJj1L",
    "ExecuteTime": {
     "end_time": "2024-08-28T00:14:43.676755Z",
     "start_time": "2024-08-28T00:14:43.660701Z"
    }
   },
   "outputs": [],
   "execution_count": 9
  },
  {
   "cell_type": "markdown",
   "source": [
    "## Criando um client para comunicar com o registro no DagsHub"
   ],
   "metadata": {
    "id": "dbFFAEaGK0lX"
   }
  },
  {
   "cell_type": "code",
   "source": [
    "client = mlflow.MlflowClient(tracking_uri=MLFLOW_TRACKING_URI)"
   ],
   "metadata": {
    "id": "wax9ipKjKShr",
    "ExecuteTime": {
     "end_time": "2024-08-28T00:14:43.692397Z",
     "start_time": "2024-08-28T00:14:43.676755Z"
    }
   },
   "outputs": [],
   "execution_count": 10
  },
  {
   "cell_type": "code",
   "source": [
    "client"
   ],
   "metadata": {
    "id": "fWlu0lRiLp3u",
    "ExecuteTime": {
     "end_time": "2024-08-28T00:14:43.708032Z",
     "start_time": "2024-08-28T00:14:43.692397Z"
    }
   },
   "outputs": [
    {
     "data": {
      "text/plain": [
       "<mlflow.tracking.client.MlflowClient at 0x23748cc2a90>"
      ]
     },
     "execution_count": 11,
     "metadata": {},
     "output_type": "execute_result"
    }
   ],
   "execution_count": 11
  },
  {
   "cell_type": "markdown",
   "source": [
    "## Recebendo o modelo registrado e suas versões"
   ],
   "metadata": {
    "id": "m1NMo6kfLBtq"
   }
  },
  {
   "cell_type": "code",
   "source": [
    "registered_model = client.get_registered_model('MODEL_NAME')"
   ],
   "metadata": {
    "id": "8oSsyfv0K6j5",
    "ExecuteTime": {
     "end_time": "2024-08-28T00:14:43.808977Z",
     "start_time": "2024-08-28T00:14:43.708032Z"
    }
   },
   "outputs": [
    {
     "ename": "MlflowException",
     "evalue": "Registered Model with name=MODEL_NAME not found",
     "output_type": "error",
     "traceback": [
      "\u001B[1;31m---------------------------------------------------------------------------\u001B[0m",
      "\u001B[1;31mMlflowException\u001B[0m                           Traceback (most recent call last)",
      "Cell \u001B[1;32mIn[12], line 1\u001B[0m\n\u001B[1;32m----> 1\u001B[0m registered_model \u001B[38;5;241m=\u001B[39m \u001B[43mclient\u001B[49m\u001B[38;5;241;43m.\u001B[39;49m\u001B[43mget_registered_model\u001B[49m\u001B[43m(\u001B[49m\u001B[38;5;124;43m'\u001B[39;49m\u001B[38;5;124;43mMODEL_NAME\u001B[39;49m\u001B[38;5;124;43m'\u001B[39;49m\u001B[43m)\u001B[49m\n",
      "File \u001B[1;32m~\\.conda\\envs\\mlops-env\\lib\\site-packages\\mlflow\\tracking\\client.py:2036\u001B[0m, in \u001B[0;36mMlflowClient.get_registered_model\u001B[1;34m(self, name)\u001B[0m\n\u001B[0;32m   1998\u001B[0m \u001B[38;5;28;01mdef\u001B[39;00m \u001B[38;5;21mget_registered_model\u001B[39m(\u001B[38;5;28mself\u001B[39m, name: \u001B[38;5;28mstr\u001B[39m) \u001B[38;5;241m-\u001B[39m\u001B[38;5;241m>\u001B[39m RegisteredModel:\n\u001B[0;32m   1999\u001B[0m \u001B[38;5;250m    \u001B[39m\u001B[38;5;124;03m\"\"\"\u001B[39;00m\n\u001B[0;32m   2000\u001B[0m \u001B[38;5;124;03m    :param name: Name of the registered model to get.\u001B[39;00m\n\u001B[0;32m   2001\u001B[0m \u001B[38;5;124;03m    :return: A single :py:class:`mlflow.entities.model_registry.RegisteredModel` object.\u001B[39;00m\n\u001B[1;32m   (...)\u001B[0m\n\u001B[0;32m   2034\u001B[0m \u001B[38;5;124;03m        description: This sentiment analysis model classifies the tone-happy, sad, angry.\u001B[39;00m\n\u001B[0;32m   2035\u001B[0m \u001B[38;5;124;03m    \"\"\"\u001B[39;00m\n\u001B[1;32m-> 2036\u001B[0m     \u001B[38;5;28;01mreturn\u001B[39;00m \u001B[38;5;28;43mself\u001B[39;49m\u001B[38;5;241;43m.\u001B[39;49m\u001B[43m_get_registry_client\u001B[49m\u001B[43m(\u001B[49m\u001B[43m)\u001B[49m\u001B[38;5;241;43m.\u001B[39;49m\u001B[43mget_registered_model\u001B[49m\u001B[43m(\u001B[49m\u001B[43mname\u001B[49m\u001B[43m)\u001B[49m\n",
      "File \u001B[1;32m~\\.conda\\envs\\mlops-env\\lib\\site-packages\\mlflow\\tracking\\_model_registry\\client.py:126\u001B[0m, in \u001B[0;36mModelRegistryClient.get_registered_model\u001B[1;34m(self, name)\u001B[0m\n\u001B[0;32m    121\u001B[0m \u001B[38;5;28;01mdef\u001B[39;00m \u001B[38;5;21mget_registered_model\u001B[39m(\u001B[38;5;28mself\u001B[39m, name):\n\u001B[0;32m    122\u001B[0m \u001B[38;5;250m    \u001B[39m\u001B[38;5;124;03m\"\"\"\u001B[39;00m\n\u001B[0;32m    123\u001B[0m \u001B[38;5;124;03m    :param name: Name of the registered model to get.\u001B[39;00m\n\u001B[0;32m    124\u001B[0m \u001B[38;5;124;03m    :return: A single :py:class:`mlflow.entities.model_registry.RegisteredModel` object.\u001B[39;00m\n\u001B[0;32m    125\u001B[0m \u001B[38;5;124;03m    \"\"\"\u001B[39;00m\n\u001B[1;32m--> 126\u001B[0m     \u001B[38;5;28;01mreturn\u001B[39;00m \u001B[38;5;28;43mself\u001B[39;49m\u001B[38;5;241;43m.\u001B[39;49m\u001B[43mstore\u001B[49m\u001B[38;5;241;43m.\u001B[39;49m\u001B[43mget_registered_model\u001B[49m\u001B[43m(\u001B[49m\u001B[43mname\u001B[49m\u001B[43m)\u001B[49m\n",
      "File \u001B[1;32m~\\.conda\\envs\\mlops-env\\lib\\site-packages\\mlflow\\store\\model_registry\\file_store.py:341\u001B[0m, in \u001B[0;36mFileStore.get_registered_model\u001B[1;34m(self, name)\u001B[0m\n\u001B[0;32m    339\u001B[0m model_path \u001B[38;5;241m=\u001B[39m \u001B[38;5;28mself\u001B[39m\u001B[38;5;241m.\u001B[39m_get_registered_model_path(name)\n\u001B[0;32m    340\u001B[0m \u001B[38;5;28;01mif\u001B[39;00m \u001B[38;5;129;01mnot\u001B[39;00m exists(model_path):\n\u001B[1;32m--> 341\u001B[0m     \u001B[38;5;28;01mraise\u001B[39;00m MlflowException(\n\u001B[0;32m    342\u001B[0m         \u001B[38;5;124mf\u001B[39m\u001B[38;5;124m\"\u001B[39m\u001B[38;5;124mRegistered Model with name=\u001B[39m\u001B[38;5;132;01m{\u001B[39;00mname\u001B[38;5;132;01m}\u001B[39;00m\u001B[38;5;124m not found\u001B[39m\u001B[38;5;124m\"\u001B[39m,\n\u001B[0;32m    343\u001B[0m         RESOURCE_DOES_NOT_EXIST,\n\u001B[0;32m    344\u001B[0m     )\n\u001B[0;32m    345\u001B[0m \u001B[38;5;28;01mreturn\u001B[39;00m \u001B[38;5;28mself\u001B[39m\u001B[38;5;241m.\u001B[39m_get_registered_model_from_path(model_path)\n",
      "\u001B[1;31mMlflowException\u001B[0m: Registered Model with name=MODEL_NAME not found"
     ]
    }
   ],
   "execution_count": 12
  },
  {
   "cell_type": "code",
   "source": [
    "registered_model.latest_versions"
   ],
   "metadata": {
    "id": "e2DDK_6_LPi5",
    "ExecuteTime": {
     "end_time": "2024-08-28T00:15:31.533768Z",
     "start_time": "2024-08-28T00:15:31.483395Z"
    }
   },
   "outputs": [
    {
     "ename": "NameError",
     "evalue": "name 'registered_model' is not defined",
     "output_type": "error",
     "traceback": [
      "\u001B[1;31m---------------------------------------------------------------------------\u001B[0m",
      "\u001B[1;31mNameError\u001B[0m                                 Traceback (most recent call last)",
      "Cell \u001B[1;32mIn[13], line 1\u001B[0m\n\u001B[1;32m----> 1\u001B[0m \u001B[43mregistered_model\u001B[49m\u001B[38;5;241m.\u001B[39mlatest_versions\n",
      "\u001B[1;31mNameError\u001B[0m: name 'registered_model' is not defined"
     ]
    }
   ],
   "execution_count": 13
  },
  {
   "cell_type": "markdown",
   "source": [
    "## Obtendo o id da execução do modelo"
   ],
   "metadata": {
    "id": "DfBd2wRdLRPC"
   }
  },
  {
   "cell_type": "code",
   "source": [
    "run_id = registered_model.latest_versions[-1].run_id"
   ],
   "metadata": {
    "id": "HG-BzNlkK9oC",
    "ExecuteTime": {
     "end_time": "2024-08-28T00:15:35.672302Z",
     "start_time": "2024-08-28T00:15:35.625423Z"
    }
   },
   "outputs": [
    {
     "ename": "NameError",
     "evalue": "name 'registered_model' is not defined",
     "output_type": "error",
     "traceback": [
      "\u001B[1;31m---------------------------------------------------------------------------\u001B[0m",
      "\u001B[1;31mNameError\u001B[0m                                 Traceback (most recent call last)",
      "Cell \u001B[1;32mIn[14], line 1\u001B[0m\n\u001B[1;32m----> 1\u001B[0m run_id \u001B[38;5;241m=\u001B[39m \u001B[43mregistered_model\u001B[49m\u001B[38;5;241m.\u001B[39mlatest_versions[\u001B[38;5;241m-\u001B[39m\u001B[38;5;241m1\u001B[39m]\u001B[38;5;241m.\u001B[39mrun_id\n",
      "\u001B[1;31mNameError\u001B[0m: name 'registered_model' is not defined"
     ]
    }
   ],
   "execution_count": 14
  },
  {
   "cell_type": "markdown",
   "source": [
    "## Carregando o modelo"
   ],
   "metadata": {
    "id": "WORhnvgnLYrX"
   }
  },
  {
   "cell_type": "code",
   "source": [
    "logged_model = f'runs:/{run_id}/model'\n",
    "loaded_model = mlflow.pyfunc.load_model(logged_model)"
   ],
   "metadata": {
    "id": "xa1ZTR6OK_hg",
    "ExecuteTime": {
     "end_time": "2024-08-28T00:15:39.576073Z",
     "start_time": "2024-08-28T00:15:39.529185Z"
    }
   },
   "outputs": [
    {
     "ename": "NameError",
     "evalue": "name 'run_id' is not defined",
     "output_type": "error",
     "traceback": [
      "\u001B[1;31m---------------------------------------------------------------------------\u001B[0m",
      "\u001B[1;31mNameError\u001B[0m                                 Traceback (most recent call last)",
      "Cell \u001B[1;32mIn[15], line 1\u001B[0m\n\u001B[1;32m----> 1\u001B[0m logged_model \u001B[38;5;241m=\u001B[39m \u001B[38;5;124mf\u001B[39m\u001B[38;5;124m'\u001B[39m\u001B[38;5;124mruns:/\u001B[39m\u001B[38;5;132;01m{\u001B[39;00mrun_id\u001B[38;5;132;01m}\u001B[39;00m\u001B[38;5;124m/model\u001B[39m\u001B[38;5;124m'\u001B[39m\n\u001B[0;32m      2\u001B[0m loaded_model \u001B[38;5;241m=\u001B[39m mlflow\u001B[38;5;241m.\u001B[39mpyfunc\u001B[38;5;241m.\u001B[39mload_model(logged_model)\n",
      "\u001B[1;31mNameError\u001B[0m: name 'run_id' is not defined"
     ]
    }
   ],
   "execution_count": 15
  },
  {
   "cell_type": "markdown",
   "source": [
    "## Fazendo uma predição com o modelo carregadO"
   ],
   "metadata": {
    "id": "IQBbf3xULc1A"
   }
  },
  {
   "cell_type": "code",
   "source": [
    "accelerations = 0\n",
    "fetal_movement = 0\n",
    "uterine_contractions = 0\n",
    "severe_decelerations = 0"
   ],
   "metadata": {
    "id": "SwbDW9aLJziQ",
    "ExecuteTime": {
     "end_time": "2024-08-28T00:15:41.551791Z",
     "start_time": "2024-08-28T00:15:41.536151Z"
    }
   },
   "outputs": [],
   "execution_count": 16
  },
  {
   "cell_type": "code",
   "source": [
    "received_data = np.array([\n",
    "        accelerations,\n",
    "        fetal_movement,\n",
    "        uterine_contractions,\n",
    "        severe_decelerations,\n",
    "    ]).reshape(1, -1)"
   ],
   "metadata": {
    "id": "s-Ed15fsJv5k",
    "ExecuteTime": {
     "end_time": "2024-08-28T00:15:42.902928Z",
     "start_time": "2024-08-28T00:15:42.871216Z"
    }
   },
   "outputs": [],
   "execution_count": 17
  },
  {
   "cell_type": "code",
   "source": [
    "received_data"
   ],
   "metadata": {
    "id": "Mpc1_Y57J_xV",
    "ExecuteTime": {
     "end_time": "2024-08-28T00:15:44.017613Z",
     "start_time": "2024-08-28T00:15:44.001959Z"
    }
   },
   "outputs": [
    {
     "data": {
      "text/plain": [
       "array([[0, 0, 0, 0]])"
      ]
     },
     "execution_count": 18,
     "metadata": {},
     "output_type": "execute_result"
    }
   ],
   "execution_count": 18
  },
  {
   "cell_type": "code",
   "source": [
    "loaded_model.predict(received_data)"
   ],
   "metadata": {
    "id": "lV6gcA8dJmX0",
    "ExecuteTime": {
     "end_time": "2024-08-28T00:15:46.593056Z",
     "start_time": "2024-08-28T00:15:46.546199Z"
    }
   },
   "outputs": [
    {
     "ename": "NameError",
     "evalue": "name 'loaded_model' is not defined",
     "output_type": "error",
     "traceback": [
      "\u001B[1;31m---------------------------------------------------------------------------\u001B[0m",
      "\u001B[1;31mNameError\u001B[0m                                 Traceback (most recent call last)",
      "Cell \u001B[1;32mIn[19], line 1\u001B[0m\n\u001B[1;32m----> 1\u001B[0m \u001B[43mloaded_model\u001B[49m\u001B[38;5;241m.\u001B[39mpredict(received_data)\n",
      "\u001B[1;31mNameError\u001B[0m: name 'loaded_model' is not defined"
     ]
    }
   ],
   "execution_count": 19
  },
  {
   "cell_type": "code",
   "source": [],
   "metadata": {
    "id": "k3qYyLsyKDVb"
   },
   "outputs": [],
   "execution_count": null
  }
 ]
}
