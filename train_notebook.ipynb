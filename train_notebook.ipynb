{
 "nbformat": 4,
 "nbformat_minor": 0,
 "metadata": {
  "colab": {
   "provenance": []
  },
  "kernelspec": {
   "name": "python3",
   "display_name": "Python 3 (ipykernel)",
   "language": "python"
  },
  "language_info": {
   "name": "python"
  }
 },
 "cells": [
  {
   "cell_type": "markdown",
   "source": [
    "# **Cultura e Práticas em DataOps e MLOps**\n",
    "**Autor**: Renan Santos Mendes\n",
    "\n",
    "**Email**: renansantosmendes@gmail.com\n",
    "\n",
    "**Descrição**: Este notebook apresenta um exemplo de uma rede neural profunda com mais de uma camada para um problema de classificação.\n",
    "\n",
    "\n",
    "# **Saúde Fetal**\n",
    "\n",
    "As Cardiotocografias (CTGs) são opções simples e de baixo custo para avaliar a saúde fetal, permitindo que os profissionais de saúde atuem na prevenção da mortalidade infantil e materna. O próprio equipamento funciona enviando pulsos de ultrassom e lendo sua resposta, lançando luz sobre a frequência cardíaca fetal (FCF), movimentos fetais, contrações uterinas e muito mais.\n",
    "\n",
    "Este conjunto de dados contém 2126 registros de características extraídas de exames de Cardiotocografias, que foram então classificados por três obstetras especialistas em 3 classes:\n",
    "\n",
    "- Normal\n",
    "- Suspeito\n",
    "- Patológico"
   ],
   "metadata": {
    "id": "yYryuRDeqbxK"
   }
  },
  {
   "cell_type": "markdown",
   "source": [
    "# Instalando pacotes"
   ],
   "metadata": {
    "id": "MkB47-my-kq9"
   }
  },
  {
   "cell_type": "markdown",
   "source": [
    "# 1 - Importando os módulos necessários"
   ],
   "metadata": {
    "id": "4WgsLeJngPb1"
   }
  },
  {
   "cell_type": "code",
   "source": [
    "import os\n",
    "import random\n",
    "import numpy as np\n",
    "import random as python_random\n",
    "import tensorflow\n",
    "import tensorflow as tf\n",
    "from tensorflow import keras\n",
    "from keras.models import Sequential\n",
    "from keras.layers import Dense, InputLayer\n",
    "from keras.utils import to_categorical\n",
    "\n",
    "import pandas as pd\n",
    "import matplotlib.pyplot as plt\n",
    "from sklearn import preprocessing\n",
    "from sklearn.preprocessing import StandardScaler\n",
    "from sklearn.model_selection import train_test_split"
   ],
   "metadata": {
    "id": "55YREGWfhXuu",
    "ExecuteTime": {
     "end_time": "2024-08-26T22:03:16.564751Z",
     "start_time": "2024-08-26T22:03:07.028999Z"
    }
   },
   "outputs": [],
   "execution_count": 1
  },
  {
   "cell_type": "markdown",
   "source": [
    "# Definindo funções adicionais"
   ],
   "metadata": {
    "id": "NFTzaAkEr-IP"
   }
  },
  {
   "cell_type": "code",
   "source": [
    "def reset_seeds():\n",
    "   os.environ['PYTHONHASHSEED']=str(42)\n",
    "   tf.random.set_seed(42)\n",
    "   np.random.seed(42)\n",
    "   random.seed(42)"
   ],
   "metadata": {
    "id": "OgKUlrlbozyR",
    "ExecuteTime": {
     "end_time": "2024-08-26T22:03:16.580379Z",
     "start_time": "2024-08-26T22:03:16.564751Z"
    }
   },
   "outputs": [],
   "execution_count": 2
  },
  {
   "cell_type": "markdown",
   "source": [
    "# 2 - Fazendo a leitura do dataset e atribuindo às respectivas variáveis"
   ],
   "metadata": {
    "id": "I5uGdrdeh0QG"
   }
  },
  {
   "cell_type": "code",
   "source": [
    "data = pd.read_csv('https://raw.githubusercontent.com/renansantosmendes/lectures-cdas-2023/master/fetal_health_reduced.csv')"
   ],
   "metadata": {
    "id": "95168wcThmD2",
    "ExecuteTime": {
     "end_time": "2024-08-26T22:03:17.407200Z",
     "start_time": "2024-08-26T22:03:16.580379Z"
    }
   },
   "outputs": [],
   "execution_count": 3
  },
  {
   "cell_type": "markdown",
   "source": [
    "# Dando uma leve olhada nos dados"
   ],
   "metadata": {
    "id": "TEM30W0agQA_"
   }
  },
  {
   "cell_type": "code",
   "source": [
    "data.head()"
   ],
   "metadata": {
    "id": "HkQ-JIfWo3Wh",
    "ExecuteTime": {
     "end_time": "2024-08-26T22:03:17.454516Z",
     "start_time": "2024-08-26T22:03:17.407200Z"
    }
   },
   "outputs": [
    {
     "data": {
      "text/plain": [
       "   severe_decelerations  accelerations  fetal_movement  uterine_contractions  \\\n",
       "0                   0.0            0.0             0.0                   0.0   \n",
       "1                   0.0            6.0             0.0                   6.0   \n",
       "2                   0.0            3.0             0.0                   8.0   \n",
       "3                   0.0            3.0             0.0                   8.0   \n",
       "4                   0.0            7.0             0.0                   8.0   \n",
       "\n",
       "   fetal_health  \n",
       "0           2.0  \n",
       "1           1.0  \n",
       "2           1.0  \n",
       "3           1.0  \n",
       "4           1.0  "
      ],
      "text/html": [
       "<div>\n",
       "<style scoped>\n",
       "    .dataframe tbody tr th:only-of-type {\n",
       "        vertical-align: middle;\n",
       "    }\n",
       "\n",
       "    .dataframe tbody tr th {\n",
       "        vertical-align: top;\n",
       "    }\n",
       "\n",
       "    .dataframe thead th {\n",
       "        text-align: right;\n",
       "    }\n",
       "</style>\n",
       "<table border=\"1\" class=\"dataframe\">\n",
       "  <thead>\n",
       "    <tr style=\"text-align: right;\">\n",
       "      <th></th>\n",
       "      <th>severe_decelerations</th>\n",
       "      <th>accelerations</th>\n",
       "      <th>fetal_movement</th>\n",
       "      <th>uterine_contractions</th>\n",
       "      <th>fetal_health</th>\n",
       "    </tr>\n",
       "  </thead>\n",
       "  <tbody>\n",
       "    <tr>\n",
       "      <th>0</th>\n",
       "      <td>0.0</td>\n",
       "      <td>0.0</td>\n",
       "      <td>0.0</td>\n",
       "      <td>0.0</td>\n",
       "      <td>2.0</td>\n",
       "    </tr>\n",
       "    <tr>\n",
       "      <th>1</th>\n",
       "      <td>0.0</td>\n",
       "      <td>6.0</td>\n",
       "      <td>0.0</td>\n",
       "      <td>6.0</td>\n",
       "      <td>1.0</td>\n",
       "    </tr>\n",
       "    <tr>\n",
       "      <th>2</th>\n",
       "      <td>0.0</td>\n",
       "      <td>3.0</td>\n",
       "      <td>0.0</td>\n",
       "      <td>8.0</td>\n",
       "      <td>1.0</td>\n",
       "    </tr>\n",
       "    <tr>\n",
       "      <th>3</th>\n",
       "      <td>0.0</td>\n",
       "      <td>3.0</td>\n",
       "      <td>0.0</td>\n",
       "      <td>8.0</td>\n",
       "      <td>1.0</td>\n",
       "    </tr>\n",
       "    <tr>\n",
       "      <th>4</th>\n",
       "      <td>0.0</td>\n",
       "      <td>7.0</td>\n",
       "      <td>0.0</td>\n",
       "      <td>8.0</td>\n",
       "      <td>1.0</td>\n",
       "    </tr>\n",
       "  </tbody>\n",
       "</table>\n",
       "</div>"
      ]
     },
     "execution_count": 4,
     "metadata": {},
     "output_type": "execute_result"
    }
   ],
   "execution_count": 4
  },
  {
   "cell_type": "markdown",
   "source": [
    "# 3 - Preparando o dado antes de iniciar o treino do modelo"
   ],
   "metadata": {
    "id": "1eQEA-fzgQ0G"
   }
  },
  {
   "cell_type": "code",
   "source": [
    "X=data.drop([\"fetal_health\"], axis=1)\n",
    "y=data[\"fetal_health\"]\n",
    "\n",
    "columns_names = list(X.columns)\n",
    "scaler = preprocessing.StandardScaler()\n",
    "X_df = scaler.fit_transform(X)\n",
    "X_df = pd.DataFrame(X_df, columns=columns_names)\n",
    "\n",
    "X_train, X_test, y_train, y_test = train_test_split(X_df,\n",
    "                                                    y,\n",
    "                                                    test_size=0.3,\n",
    "                                                    random_state=42)\n",
    "\n",
    "y_train = y_train -1\n",
    "y_test = y_test - 1"
   ],
   "metadata": {
    "id": "jBK7SgPxh7YY",
    "ExecuteTime": {
     "end_time": "2024-08-26T22:03:17.501390Z",
     "start_time": "2024-08-26T22:03:17.454516Z"
    }
   },
   "outputs": [],
   "execution_count": 5
  },
  {
   "cell_type": "markdown",
   "source": [
    "# 4 - Criando o modelo e adicionando as camadas"
   ],
   "metadata": {
    "id": "54CmcOG1gRn9"
   }
  },
  {
   "cell_type": "code",
   "source": [
    "reset_seeds()\n",
    "model = Sequential()\n",
    "model.add(InputLayer(input_shape=(X_train.shape[1], )))\n",
    "model.add(Dense(10, activation='relu'))\n",
    "model.add(Dense(10, activation='relu'))\n",
    "model.add(Dense(3, activation='softmax'))"
   ],
   "metadata": {
    "id": "4y2kKy_EkLGt",
    "ExecuteTime": {
     "end_time": "2024-08-26T22:03:17.784027Z",
     "start_time": "2024-08-26T22:03:17.501390Z"
    }
   },
   "outputs": [],
   "execution_count": 6
  },
  {
   "cell_type": "markdown",
   "source": [
    "# 5 - Compilando o modelo\n"
   ],
   "metadata": {
    "id": "E0JmDrz6iQDw"
   }
  },
  {
   "cell_type": "code",
   "source": [
    "model.compile(loss='sparse_categorical_crossentropy',\n",
    "              optimizer='adam',\n",
    "              metrics=['accuracy'])"
   ],
   "metadata": {
    "id": "7IeY0b4i1gQj",
    "ExecuteTime": {
     "end_time": "2024-08-26T22:03:17.815274Z",
     "start_time": "2024-08-26T22:03:17.784027Z"
    }
   },
   "outputs": [],
   "execution_count": 7
  },
  {
   "cell_type": "code",
   "source": [
    "import mlflow\n",
    "\n",
    "os.environ['MLFLOW_TRACKING_USERNAME'] = 'renansantosmendes'\n",
    "os.environ['MLFLOW_TRACKING_PASSWORD'] = '6d730ef4a90b1caf28fbb01e5748f0874fda6077'\n",
    "mlflow.set_tracking_uri('https://dagshub.com/renansantosmendes/mlops-ead.mlflow')\n",
    "\n",
    "mlflow.tensorflow.autolog(log_models=True,\n",
    "                          log_input_examples=True,\n",
    "                          log_model_signatures=True)"
   ],
   "metadata": {
    "id": "9RlCNYss91nf",
    "ExecuteTime": {
     "end_time": "2024-08-26T22:03:19.370637Z",
     "start_time": "2024-08-26T22:03:17.815799Z"
    }
   },
   "outputs": [],
   "execution_count": 8
  },
  {
   "cell_type": "markdown",
   "source": [
    "# 6 - Executando o treino do modelo"
   ],
   "metadata": {
    "id": "MoHbKkvCim-p"
   }
  },
  {
   "cell_type": "code",
   "source": [
    "with mlflow.start_run(run_name='experiment_0mlops_ead') as run:\n",
    "  model.fit(X_train,\n",
    "            y_train,\n",
    "            epochs=50,\n",
    "            validation_split=0.2,\n",
    "            verbose=3)"
   ],
   "metadata": {
    "id": "w8IX2tHI2VX4",
    "ExecuteTime": {
     "end_time": "2024-08-26T22:03:59.209024Z",
     "start_time": "2024-08-26T22:03:19.370637Z"
    }
   },
   "outputs": [
    {
     "name": "stderr",
     "output_type": "stream",
     "text": [
      "C:\\Users\\ascle\\.conda\\envs\\mlops-env\\lib\\site-packages\\keras\\engine\\data_adapter.py:1699: FutureWarning: The behavior of `series[i:j]` with an integer-dtype index is deprecated. In a future version, this will be treated as *label-based* indexing, consistent with e.g. `series[i]` lookups. To retain the old behavior, use `series.iloc[i:j]`. To get the future behavior, use `series.loc[i:j]`.\n",
      "  return t[start:end]\n"
     ]
    },
    {
     "name": "stdout",
     "output_type": "stream",
     "text": [
      "Epoch 1/50\n",
      "Epoch 2/50\n",
      "Epoch 3/50\n",
      "Epoch 4/50\n",
      "Epoch 5/50\n",
      "Epoch 6/50\n",
      "Epoch 7/50\n",
      "Epoch 8/50\n",
      "Epoch 9/50\n",
      "Epoch 10/50\n",
      "Epoch 11/50\n",
      "Epoch 12/50\n",
      "Epoch 13/50\n",
      "Epoch 14/50\n",
      "Epoch 15/50\n",
      "Epoch 16/50\n",
      "Epoch 17/50\n",
      "Epoch 18/50\n",
      "Epoch 19/50\n",
      "Epoch 20/50\n",
      "Epoch 21/50\n",
      "Epoch 22/50\n",
      "Epoch 23/50\n",
      "Epoch 24/50\n",
      "Epoch 25/50\n",
      "Epoch 26/50\n",
      "Epoch 27/50\n",
      "Epoch 28/50\n",
      "Epoch 29/50\n",
      "Epoch 30/50\n",
      "Epoch 31/50\n",
      "Epoch 32/50\n",
      "Epoch 33/50\n",
      "Epoch 34/50\n",
      "Epoch 35/50\n",
      "Epoch 36/50\n",
      "Epoch 37/50\n",
      "Epoch 38/50\n",
      "Epoch 39/50\n",
      "Epoch 40/50\n",
      "Epoch 41/50\n",
      "Epoch 42/50\n",
      "Epoch 43/50\n",
      "Epoch 44/50\n",
      "Epoch 45/50\n",
      "Epoch 46/50\n",
      "Epoch 47/50\n",
      "Epoch 48/50\n",
      "Epoch 49/50\n",
      "Epoch 50/50\n"
     ]
    },
    {
     "name": "stderr",
     "output_type": "stream",
     "text": [
      "2024/08/26 19:03:33 WARNING mlflow.tensorflow: Failed to gather input example: Cannot log input example or model signature for input with type <class 'pandas.core.frame.DataFrame'>. TensorFlow Keras autologging can only log input examples and model signatures for the following input types: numpy.ndarray, dict[string -> numpy.ndarray], tensorflow.keras.utils.Sequence, and tensorflow.data.Dataset (TensorFlow >= 2.1.0 required)\n",
      "2024/08/26 19:03:33 WARNING mlflow.tensorflow: Failed to infer model signature: could not sample data to infer model signature: Cannot log input example or model signature for input with type <class 'pandas.core.frame.DataFrame'>. TensorFlow Keras autologging can only log input examples and model signatures for the following input types: numpy.ndarray, dict[string -> numpy.ndarray], tensorflow.keras.utils.Sequence, and tensorflow.data.Dataset (TensorFlow >= 2.1.0 required)\n",
      "2024/08/26 19:03:33 WARNING mlflow.tensorflow: You are saving a TensorFlow Core model or Keras model without a signature. Inference with mlflow.pyfunc.spark_udf() will not work unless the model's pyfunc representation accepts pandas DataFrames as inference inputs.\n"
     ]
    },
    {
     "name": "stdout",
     "output_type": "stream",
     "text": [
      "INFO:tensorflow:Assets written to: C:\\Users\\ascle\\AppData\\Local\\Temp\\tmppj0uvyb4\\model\\data\\model\\assets\n"
     ]
    },
    {
     "name": "stderr",
     "output_type": "stream",
     "text": [
      "2024/08/26 19:03:48 WARNING mlflow.utils.autologging_utils: MLflow autologging encountered a warning: \"C:\\Users\\ascle\\.conda\\envs\\mlops-env\\lib\\site-packages\\_distutils_hack\\__init__.py:32: UserWarning: Setuptools is replacing distutils. Support for replacing an already imported distutils is deprecated. In the future, this condition will fail. Register concerns at https://github.com/pypa/setuptools/issues/new?template=distutils-deprecation.yml\"\n"
     ]
    }
   ],
   "execution_count": 9
  }
 ]
}
